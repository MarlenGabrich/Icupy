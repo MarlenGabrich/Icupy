{
 "cells": [
  {
   "cell_type": "code",
   "execution_count": 1,
   "metadata": {},
   "outputs": [],
   "source": [
    "import pandas as pd\n",
    "import numpy as np\n",
    "from icupy import Standary\n",
    "from icupy import Staty"
   ]
  },
  {
   "cell_type": "code",
   "execution_count": 2,
   "metadata": {},
   "outputs": [
    {
     "ename": "StatisticsError",
     "evalue": "The standard deviation exceeds the defined limit",
     "output_type": "error",
     "traceback": [
      "\u001b[1;31m---------------------------------------------------------------------------\u001b[0m",
      "\u001b[1;31mStatisticsError\u001b[0m                           Traceback (most recent call last)",
      "\u001b[1;32mc:\\Users\\Usuario\\Desktop\\Icupy\\Icupy\\use.ipynb Celda 2\u001b[0m in \u001b[0;36m<cell line: 4>\u001b[1;34m()\u001b[0m\n\u001b[0;32m      <a href='vscode-notebook-cell:/c%3A/Users/Usuario/Desktop/Icupy/Icupy/use.ipynb#W1sZmlsZQ%3D%3D?line=1'>2</a>\u001b[0m sty \u001b[39m=\u001b[39m Staty()\n\u001b[0;32m      <a href='vscode-notebook-cell:/c%3A/Users/Usuario/Desktop/Icupy/Icupy/use.ipynb#W1sZmlsZQ%3D%3D?line=2'>3</a>\u001b[0m datitos \u001b[39m=\u001b[39m dset[\u001b[39m'\u001b[39m\u001b[39mHumedad\u001b[39m\u001b[39m'\u001b[39m]\n\u001b[1;32m----> <a href='vscode-notebook-cell:/c%3A/Users/Usuario/Desktop/Icupy/Icupy/use.ipynb#W1sZmlsZQ%3D%3D?line=3'>4</a>\u001b[0m ifs \u001b[39m=\u001b[39m sty\u001b[39m.\u001b[39;49msoutliers(datitos)\n\u001b[0;32m      <a href='vscode-notebook-cell:/c%3A/Users/Usuario/Desktop/Icupy/Icupy/use.ipynb#W1sZmlsZQ%3D%3D?line=4'>5</a>\u001b[0m ifs\n",
      "File \u001b[1;32mc:\\Users\\Usuario\\Desktop\\Icupy\\Icupy\\icupy.py:22\u001b[0m, in \u001b[0;36mStaty.soutliers\u001b[1;34m(self, conj_datos)\u001b[0m\n\u001b[0;32m     20\u001b[0m \u001b[39mfor\u001b[39;00m i \u001b[39min\u001b[39;00m conj_datos:\n\u001b[0;32m     21\u001b[0m     \u001b[39mif\u001b[39;00m i\u001b[39m<\u001b[39mlimite_inferior \u001b[39mor\u001b[39;00m i\u001b[39m>\u001b[39mlimite_superior:\n\u001b[1;32m---> 22\u001b[0m         \u001b[39mraise\u001b[39;00m statistics\u001b[39m.\u001b[39mStatisticsError(\u001b[39m'\u001b[39m\u001b[39mThe standard deviation exceeds the defined limit\u001b[39m\u001b[39m'\u001b[39m)\n\u001b[0;32m     24\u001b[0m \u001b[39mreturn\u001b[39;00m statistics_par\n",
      "\u001b[1;31mStatisticsError\u001b[0m: The standard deviation exceeds the defined limit"
     ]
    }
   ],
   "source": [
    "dset = pd.read_csv('DATASETS/Bouwer_agricultura.csv')\n",
    "sty = Staty()\n",
    "datitos = dset['Temperatura [°C]']\n",
    "ifs = sty.soutliers(datitos)\n",
    "ifs"
   ]
  },
  {
   "cell_type": "code",
   "execution_count": 3,
   "metadata": {},
   "outputs": [],
   "source": []
  },
  {
   "cell_type": "code",
   "execution_count": 4,
   "metadata": {},
   "outputs": [
    {
     "data": {
      "text/plain": [
       "{'media': 17.05547742763832, 'desvio_estandar': 8.105886343766793}"
      ]
     },
     "execution_count": 4,
     "metadata": {},
     "output_type": "execute_result"
    }
   ],
   "source": [
    "ifs"
   ]
  },
  {
   "cell_type": "code",
   "execution_count": null,
   "metadata": {},
   "outputs": [],
   "source": [
    "sdy = Standary()\n",
    "df = sdy.stanjoin(dset)\n"
   ]
  },
  {
   "cell_type": "code",
   "execution_count": null,
   "metadata": {},
   "outputs": [],
   "source": [
    "df"
   ]
  },
  {
   "cell_type": "code",
   "execution_count": null,
   "metadata": {},
   "outputs": [],
   "source": []
  },
  {
   "cell_type": "code",
   "execution_count": null,
   "metadata": {},
   "outputs": [],
   "source": []
  }
 ],
 "metadata": {
  "kernelspec": {
   "display_name": "Python 3.9.12 ('base')",
   "language": "python",
   "name": "python3"
  },
  "language_info": {
   "codemirror_mode": {
    "name": "ipython",
    "version": 3
   },
   "file_extension": ".py",
   "mimetype": "text/x-python",
   "name": "python",
   "nbconvert_exporter": "python",
   "pygments_lexer": "ipython3",
   "version": "3.9.12"
  },
  "orig_nbformat": 4,
  "vscode": {
   "interpreter": {
    "hash": "e06ff7da33dc9620448857a90ad8b5f428f0d573d205a934d2841c8aee45ea32"
   }
  }
 },
 "nbformat": 4,
 "nbformat_minor": 2
}
