{
 "cells": [
  {
   "cell_type": "code",
   "execution_count": 1,
   "metadata": {},
   "outputs": [],
   "source": [
    "import pandas as pd\n",
    "import numpy as np\n",
    "from datetime import datetime\n",
    "from icupy import Standary\n",
    "from icupy import Staty\n",
    "from icupy import Comply"
   ]
  },
  {
   "cell_type": "markdown",
   "metadata": {},
   "source": [
    "### PASO 0: Cargado de bases"
   ]
  },
  {
   "cell_type": "code",
   "execution_count": 2,
   "metadata": {},
   "outputs": [],
   "source": [
    "APRHi = pd.read_csv('DATASETS/APRHi_campus_UBP.csv')\n",
    "VR = pd.read_csv('DATASETS/Aproduco_villaretiro_agriculturaCBA.csv')\n",
    "Bouwer = pd.read_csv('DATASETS/Bouwer_agriculturaCBA.csv')\n",
    "Cno60 = pd.read_csv('DATASETS/Cno_60_cuadras_agriculturaCBA.csv')\n",
    "EPEC = pd.read_csv('DATASETS/EPEC_azotea_central.csv')\n",
    "CR = pd.read_csv('DATASETS/FCA_capilla_de_los_remedios_agriculturaCBA.csv')\n",
    "LH = pd.read_csv('DATASETS/Laboratorio_hidraulica.csv')"
   ]
  },
  {
   "cell_type": "code",
   "execution_count": 3,
   "metadata": {},
   "outputs": [],
   "source": [
    "DOB1 = pd.read_csv('DATASETS/ICRDOB1.csv')\n",
    "DOB70 = pd.read_csv('DATASETS/ICRDOBA70.csv')\n",
    "DOB100 = pd.read_csv('DATASETS/ICRDOBA100.csv')\n",
    "DOB49 = pd.read_csv('DATASETS/ICRDOBAC49.csv')\n",
    "SANTAMA = pd.read_csv('DATASETS/ISANTAMA1755.csv')"
   ]
  },
  {
   "cell_type": "markdown",
   "metadata": {},
   "source": [
    "### PASO 1: Estandarizacion de sets"
   ]
  },
  {
   "cell_type": "code",
   "execution_count": 4,
   "metadata": {},
   "outputs": [],
   "source": [
    "sdy = Standary()\n",
    "\n",
    "base_estandarizadaAPRHi1 = sdy.stanjoin(APRHi)\n",
    "base_estandarizadaAPRHi = sdy.fill_in(base_estandarizadaAPRHi1)\n",
    "\n",
    "base_estandarizadaVR1 = sdy.stanjoin(VR)\n",
    "base_estandarizadaVR = sdy.fill_in(base_estandarizadaVR1)\n",
    "\n",
    "base_estandarizadaBouwer1 = sdy.stanjoin(Bouwer)\n",
    "base_estandarizadaBouwer = sdy.fill_in(base_estandarizadaBouwer1)\n",
    "\n",
    "base_estandarizadaCno601 = sdy.stanjoin(Cno60)\n",
    "base_estandarizadaCno60 = sdy.fill_in(base_estandarizadaCno601)\n",
    "\n",
    "base_estandarizadaEPEC1 = sdy.stanjoin(EPEC)\n",
    "base_estandarizadaEPEC = sdy.fill_in(base_estandarizadaEPEC1)\n",
    "\n",
    "base_estandarizadaCR1 = sdy.stanjoin(CR)\n",
    "base_estandarizadaCR = sdy.fill_in(base_estandarizadaCR1)\n",
    "\n",
    "base_estandarizadaLH1 = sdy.stanjoin(LH)\n",
    "base_estandarizadaLH = sdy.fill_in(base_estandarizadaLH1)"
   ]
  },
  {
   "cell_type": "code",
   "execution_count": 5,
   "metadata": {},
   "outputs": [
    {
     "name": "stderr",
     "output_type": "stream",
     "text": [
      "/home/marlen/Icupy/Icupy/icupy.py:70: FutureWarning: The default value of numeric_only in DataFrameGroupBy.mean is deprecated. In a future version, numeric_only will default to False. Either specify numeric_only or select only columns which should be valid for the function.\n",
      "  daset = setdatos.groupby(by=['datetime']).mean().round(2)\n"
     ]
    }
   ],
   "source": [
    "base_estandarizadaDOB11 = sdy.stanjoin(DOB1)\n",
    "base_estandarizadaDOB1 = sdy.fill_in(base_estandarizadaDOB11)\n",
    "\n",
    "base_estandarizadaDOB701 = sdy.stanjoin(DOB70)\n",
    "base_estandarizadaDOB70 = sdy.fill_in(base_estandarizadaDOB701)\n",
    "\n",
    "base_estandarizadaDOB1001 = sdy.stanjoin(DOB100)\n",
    "base_estandarizadaDOB100 = sdy.fill_in(base_estandarizadaDOB1001)\n",
    "\n",
    "base_estandarizadaDOB491 = sdy.stanjoin(DOB49)\n",
    "base_estandarizadaDOB49 = sdy.fill_in(base_estandarizadaDOB491)\n",
    "\n",
    "base_estandarizadaSANTAMA1 = sdy.stanjoin(SANTAMA)\n",
    "base_estandarizadaSANTAMA = sdy.fill_in(base_estandarizadaSANTAMA1)"
   ]
  },
  {
   "cell_type": "markdown",
   "metadata": {},
   "source": [
    "### PASO 3: Seleccion de subconjunto con que se quiere trabajar "
   ]
  },
  {
   "cell_type": "code",
   "execution_count": 6,
   "metadata": {},
   "outputs": [],
   "source": [
    "AEROPORT = pd.read_csv('DATASETS/AERO_res.csv')"
   ]
  },
  {
   "cell_type": "code",
   "execution_count": 7,
   "metadata": {},
   "outputs": [],
   "source": [
    "comply = Comply()\n",
    "\n",
    "fecha1 = pd.to_datetime('2022-11-16 14:00:00')\n",
    "fecha2 = pd.to_datetime('2022-11-17 08:00:00')"
   ]
  },
  {
   "cell_type": "code",
   "execution_count": 8,
   "metadata": {},
   "outputs": [],
   "source": [
    "#APRHi_fechado = comply.cuty(base_estandarizadaAPRHi,fecha1,fecha2)\n",
    "#VR_fechado = comply.cuty(base_estandarizadaVR,fecha1,fecha2)\n",
    "#Bouwer_fechado = comply.cuty(base_estandarizadaBouwer,fecha1,fecha2)\n",
    "#Cno60_fechado = comply.cuty(base_estandarizadaCno60,fecha1,fecha2)\n",
    "EPEC_fechado = comply.cuty(base_estandarizadaEPEC,fecha1,fecha2)\n",
    "#CR_fechado = comply.cuty(base_estandarizadaCR,fecha1,fecha2)\n",
    "#LH_fechado = comply.cuty(base_estandarizadaLH,fecha1,fecha2)"
   ]
  },
  {
   "cell_type": "code",
   "execution_count": 9,
   "metadata": {},
   "outputs": [
    {
     "ename": "IndexError",
     "evalue": "index 0 is out of bounds for axis 0 with size 0",
     "output_type": "error",
     "traceback": [
      "\u001b[0;31m---------------------------------------------------------------------------\u001b[0m",
      "\u001b[0;31mIndexError\u001b[0m                                Traceback (most recent call last)",
      "Cell \u001b[0;32mIn [9], line 1\u001b[0m\n\u001b[0;32m----> 1\u001b[0m DOB1_fechado \u001b[39m=\u001b[39m comply\u001b[39m.\u001b[39;49mcuty(base_estandarizadaDOB1,fecha1,fecha2)\n\u001b[1;32m      2\u001b[0m DOB70_fechado \u001b[39m=\u001b[39m comply\u001b[39m.\u001b[39mcuty(base_estandarizadaDOB70,fecha1,fecha2)\n\u001b[1;32m      3\u001b[0m DOB100_fechado \u001b[39m=\u001b[39m comply\u001b[39m.\u001b[39mcuty(base_estandarizadaDOB100,fecha1,fecha2)\n",
      "File \u001b[0;32m~/Icupy/Icupy/icupy.py:115\u001b[0m, in \u001b[0;36mComply.cuty\u001b[0;34m(self, dataset, inicio, fin)\u001b[0m\n\u001b[1;32m    100\u001b[0m \u001b[39m\"\"\"Función para cortar el set de datos\u001b[39;00m\n\u001b[1;32m    101\u001b[0m \u001b[39m\u001b[39;00m\n\u001b[1;32m    102\u001b[0m \u001b[39mParameters\u001b[39;00m\n\u001b[0;32m   (...)\u001b[0m\n\u001b[1;32m    110\u001b[0m \u001b[39m    set recortado\u001b[39;00m\n\u001b[1;32m    111\u001b[0m \u001b[39m\"\"\"\u001b[39;00m\n\u001b[1;32m    113\u001b[0m dataset\u001b[39m.\u001b[39mreset_index(drop\u001b[39m=\u001b[39m\u001b[39mFalse\u001b[39;00m, inplace\u001b[39m=\u001b[39m\u001b[39mTrue\u001b[39;00m)\n\u001b[0;32m--> 115\u001b[0m indice_fin \u001b[39m=\u001b[39m dataset\u001b[39m.\u001b[39;49mloc[dataset[\u001b[39m'\u001b[39;49m\u001b[39mdatetime\u001b[39;49m\u001b[39m'\u001b[39;49m]\u001b[39m==\u001b[39;49mfin]\u001b[39m.\u001b[39;49mindex[\u001b[39m0\u001b[39;49m]\n\u001b[1;32m    116\u001b[0m indice_inicio \u001b[39m=\u001b[39m dataset\u001b[39m.\u001b[39mloc[dataset[\u001b[39m'\u001b[39m\u001b[39mdatetime\u001b[39m\u001b[39m'\u001b[39m]\u001b[39m==\u001b[39minicio]\u001b[39m.\u001b[39mindex[\u001b[39m0\u001b[39m]\n\u001b[1;32m    117\u001b[0m datas \u001b[39m=\u001b[39m dataset[indice_inicio:indice_fin]\n",
      "File \u001b[0;32m~/.local/lib/python3.10/site-packages/pandas/core/indexes/base.py:5361\u001b[0m, in \u001b[0;36mIndex.__getitem__\u001b[0;34m(self, key)\u001b[0m\n\u001b[1;32m   5358\u001b[0m \u001b[39mif\u001b[39;00m is_integer(key) \u001b[39mor\u001b[39;00m is_float(key):\n\u001b[1;32m   5359\u001b[0m     \u001b[39m# GH#44051 exclude bool, which would return a 2d ndarray\u001b[39;00m\n\u001b[1;32m   5360\u001b[0m     key \u001b[39m=\u001b[39m com\u001b[39m.\u001b[39mcast_scalar_indexer(key, warn_float\u001b[39m=\u001b[39m\u001b[39mTrue\u001b[39;00m)\n\u001b[0;32m-> 5361\u001b[0m     \u001b[39mreturn\u001b[39;00m getitem(key)\n\u001b[1;32m   5363\u001b[0m \u001b[39mif\u001b[39;00m \u001b[39misinstance\u001b[39m(key, \u001b[39mslice\u001b[39m):\n\u001b[1;32m   5364\u001b[0m     \u001b[39m# This case is separated from the conditional above to avoid\u001b[39;00m\n\u001b[1;32m   5365\u001b[0m     \u001b[39m# pessimization com.is_bool_indexer and ndim checks.\u001b[39;00m\n\u001b[1;32m   5366\u001b[0m     result \u001b[39m=\u001b[39m getitem(key)\n",
      "\u001b[0;31mIndexError\u001b[0m: index 0 is out of bounds for axis 0 with size 0"
     ]
    }
   ],
   "source": [
    "DOB1_fechado = comply.cuty(base_estandarizadaDOB1,fecha1,fecha2)\n",
    "DOB70_fechado = comply.cuty(base_estandarizadaDOB70,fecha1,fecha2)\n",
    "DOB100_fechado = comply.cuty(base_estandarizadaDOB100,fecha1,fecha2)\n",
    "DOB49_fechado = comply.cuty(base_estandarizadaDOB49,fecha1,fecha2)\n",
    "SANTAMA_fechado = comply.cuty(base_estandarizadaSANTAMA,fecha1,fecha2)"
   ]
  },
  {
   "cell_type": "markdown",
   "metadata": {},
   "source": [
    "### PASO 3: Evaluacion de valores extremos por criterio de limites\n",
    "\n",
    "Se evalua TEMPERATURA, HUMEDAD, PRESION\n",
    "\n",
    "Orden de evaluacion:\n",
    "**Aprhi Campus UBP**,**Aproduco Villa Retiro**, **Bouwer**, **Camino 60 cuadras**, **Azotea EPEC**, **Capilla de los Remedios**, **Laboratorio de Hidraulica**.\n",
    "\n",
    "*ICRDOB1*,*ICRDOBA*,*ICRDOBA100*,*ICRDOBAC49*,*ISANTAMA1755*\n"
   ]
  },
  {
   "cell_type": "code",
   "execution_count": null,
   "metadata": {},
   "outputs": [],
   "source": [
    "sty = Staty()\n",
    "\n",
    "APRHi_temp = APRHi_fechado['Temperatura [°C]']\n",
    "APRHi_hum = APRHi_fechado['Humedad [%HR]']\n",
    "APRHi_pres = APRHi_fechado['Presion [hPa]']\n",
    "sty_APRHitemp = sty.soutliers(APRHi_temp)\n",
    "sty_APRHihum = sty.soutliers(APRHi_hum)\n",
    "sty_APRHipres = sty.soutliers(APRHi_pres)\n",
    "\n",
    "#VR_temp = VR_fechado['Temperatura [°C]']\n",
    "#VR_hum = VR_fechado['Humedad [%HR]']\n",
    "#VR_pres = VR_fechado['Presion [hPa]']\n",
    "#sty_VRtemp = sty.soutliers(VR_temp)\n",
    "#sty_VRhum = sty.soutliers(VR_hum)\n",
    "#sty_VRpres = sty.soutliers(VR_pres)\n",
    "\n",
    "#Bouwer_temp = Bouwer_fechado['Temperatura [°C]']\n",
    "#Bouwer_hum = Bouwer_fechado['Humedad [%HR]']\n",
    "#Bouwer_pres = Bouwer_fechado['Presion [hPa]']\n",
    "#sty_Bouwertemp = sty.soutliers(Bouwer_temp)\n",
    "#sty_Bouwerhum = sty.soutliers(Bouwer_hum)\n",
    "#sty_Bouwerpres = sty.soutliers(Bouwer_pres)\n",
    "\n",
    "Cno60_temp = Cno60_fechado['Temperatura [°C]']\n",
    "Cno60_hum = Cno60_fechado['Humedad [%HR]']\n",
    "Cno60_pres = Cno60_fechado['Presion [hPa]']\n",
    "sty_Cno60temp = sty.soutliers(Cno60_temp)\n",
    "sty_Cno60hum = sty.soutliers(Cno60_hum)\n",
    "sty_Cno60pres = sty.soutliers(Cno60_pres)\n",
    "\n",
    "EPEC_temp = EPEC_fechado['Temperatura [°C]']\n",
    "EPEC_hum = EPEC_fechado['Humedad [%HR]']\n",
    "EPEC_pres = EPEC_fechado['Presion [hPa]']\n",
    "sty_EPECtemp = sty.soutliers(EPEC_temp)\n",
    "sty_EPEChum = sty.soutliers(EPEC_hum)\n",
    "sty_EPECpres = sty.soutliers(EPEC_pres)\n",
    "\n",
    "#CR_temp = CR_fechado['Temperatura [°C]']\n",
    "#CR_hum = CR_fechado['Humedad [%HR]']\n",
    "#CR_pres = CR_fechado['Presion [hPa]']\n",
    "#sty_CRtemp = sty.soutliers(CR_temp)\n",
    "#sty_CRhum = sty.soutliers(CR_hum)\n",
    "#sty_CRpres = sty.soutliers(CR_pres)\n",
    "\n",
    "LH_temp = LH_fechado['Temperatura [°C]']\n",
    "LH_hum = LH_fechado['Humedad [%HR]']\n",
    "LH_pres = LH_fechado['Presion [hPa]']\n",
    "sty_LHtemp = sty.soutliers(LH_temp)\n",
    "sty_LHhum = sty.soutliers(LH_hum)\n",
    "sty_LHpres = sty.soutliers(LH_pres)"
   ]
  },
  {
   "cell_type": "code",
   "execution_count": null,
   "metadata": {},
   "outputs": [],
   "source": [
    "DOB1_temp = DOB1_fechado['temperature']\n",
    "DOB1_hum = DOB1_fechado['Humedad']\n",
    "DOB1_pres = DOB1_fechado['presion']\n",
    "sty_DOB1temp = sty.soutliers(DOB1_temp)\n",
    "sty_DOB1hum = sty.soutliers(DOB1_hum)\n",
    "sty_DOB1pres = sty.soutliers(DOB1_pres)\n",
    "\n",
    "DOB70_temp = DOB70_fechado['temperature']\n",
    "DOB70_hum = DOB70_fechado['Humedad']\n",
    "DOB70_pres = DOB70_fechado['presion']\n",
    "sty_DOB70temp = sty.soutliers(DOB70_temp)\n",
    "sty_DOB70hum = sty.soutliers(DOB70_hum)\n",
    "sty_DOB70pres = sty.soutliers(DOB70_pres)\n",
    "\n",
    "DOB100_temp = DOB100_fechado['temperature']\n",
    "DOB100_hum = DOB100_fechado['Humedad']\n",
    "DOB100_pres = DOB100_fechado['presion']\n",
    "sty_DOB100temp = sty.soutliers(DOB100_temp)\n",
    "sty_DOB100hum = sty.soutliers(DOB100_hum)\n",
    "sty_DOB100pres = sty.soutliers(DOB100_pres)\n",
    "\n",
    "DOB49_temp = DOB49_fechado['temperature']\n",
    "DOB49_hum = DOB49_fechado['Humedad']\n",
    "DOB49_pres = DOB49_fechado['presion']\n",
    "sty_DOB49temp = sty.soutliers(DOB49_temp)\n",
    "sty_DOB49hum = sty.soutliers(DOB49_hum)\n",
    "sty_DOB49pres = sty.soutliers(DOB49_pres)\n",
    "\n",
    "SANTAMA_temp = SANTAMA_fechado['temperature']\n",
    "SANTAMA_hum = SANTAMA_fechado['Humedad']\n",
    "SANTAMA_pres = SANTAMA_fechado['presion']\n",
    "sty_SANTAMAtemp = sty.soutliers(SANTAMA_temp)\n",
    "sty_SANTAMAhum = sty.soutliers(SANTAMA_hum)\n",
    "sty_SANTAMApres = sty.soutliers(SANTAMA_pres)"
   ]
  },
  {
   "cell_type": "markdown",
   "metadata": {},
   "source": [
    "### PASO 4: Analisis icu"
   ]
  },
  {
   "cell_type": "code",
   "execution_count": 14,
   "metadata": {},
   "outputs": [
    {
     "data": {
      "text/plain": [
       "<AxesSubplot: xlabel='datetime'>"
      ]
     },
     "execution_count": 14,
     "metadata": {},
     "output_type": "execute_result"
    },
    {
     "data": {
      "image/png": "[encoded data removed]",
      "text/plain": [
       "<Figure size 640x480 with 1 Axes>"
      ]
     },
     "metadata": {},
     "output_type": "display_data"
    }
   ],
   "source": [
    "icu_diurna = pd.read_csv('DATASETS/ICU_2022_DIURNA.csv')\n",
    "icu_nocturna = pd.read_csv('DATASETS/ICU_2022_NOCTURNA.csv')\n",
    "\n",
    "import matplotlib.pyplot as plt\n",
    "\n",
    "icu_diurna[['datetime','campus_UBP','lab_hidraulica','azotea_EPEC']].plot(x='datetime',kind='bar')\n"
   ]
  },
  {
   "cell_type": "code",
   "execution_count": 15,
   "metadata": {},
   "outputs": [
    {
     "data": {
      "text/plain": [
       "<AxesSubplot: xlabel='datetime'>"
      ]
     },
     "execution_count": 15,
     "metadata": {},
     "output_type": "execute_result"
    },
    {
     "data": {
      "image/png": "[encoded data removed]",
      "text/plain": [
       "<Figure size 640x480 with 1 Axes>"
      ]
     },
     "metadata": {},
     "output_type": "display_data"
    }
   ],
   "source": [
    "icu_nocturna[['datetime','campus_UBP','lab_hidraulica','azotea_EPEC']].plot(x='datetime',kind='bar')"
   ]
  },
  {
   "cell_type": "code",
   "execution_count": null,
   "metadata": {},
   "outputs": [],
   "source": []
  }
 ],
 "metadata": {
  "kernelspec": {
   "display_name": "Python 3.10.6 64-bit",
   "language": "python",
   "name": "python3"
  },
  "language_info": {
   "codemirror_mode": {
    "name": "ipython",
    "version": 3
   },
   "file_extension": ".py",
   "mimetype": "text/x-python",
   "name": "python",
   "nbconvert_exporter": "python",
   "pygments_lexer": "ipython3",
   "version": "3.10.6"
  },
  "orig_nbformat": 4,
  "vscode": {
   "interpreter": {
    "hash": "916dbcbb3f70747c44a77c7bcd40155683ae19c65e1c03b4aa3499c5328201f1"
   }
  }
 },
 "nbformat": 4,
 "nbformat_minor": 2
}
